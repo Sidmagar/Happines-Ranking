{
  "cells": [
    {
      "cell_type": "code",
      "execution_count": 26,
      "metadata": {
        "colab": {
          "base_uri": "https://localhost:8080/"
        },
        "id": "Bk4RWfOoc0Fu",
        "outputId": "778f8172-1f12-4ce3-e846-78db92db6086"
      },
      "outputs": [
        {
          "name": "stdout",
          "output_type": "stream",
          "text": [
            "Drive already mounted at /content/drive; to attempt to forcibly remount, call drive.mount(\"/content/drive\", force_remount=True).\n"
          ]
        }
      ],
      "source": []
    },
    {
      "cell_type": "code",
      "execution_count": 1,
      "metadata": {
        "id": "FVQHbGAac4qS"
      },
      "outputs": [],
      "source": [
        "#importing the necessary libraries\n",
        "\n",
        "import pandas as pd\n",
        "import numpy as np\n",
        "import seaborn as sns\n",
        "import matplotlib.pyplot as plt\n",
        "%matplotlib inline \n",
        "\n",
        "from sklearn.linear_model import LinearRegression\n",
        "from sklearn.model_selection import train_test_split\n",
        "from sklearn.metrics import accuracy_score\n",
        "from sklearn.preprocessing import StandardScaler"
      ]
    },
    {
      "cell_type": "code",
      "execution_count": 3,
      "metadata": {
        "colab": {
          "base_uri": "https://localhost:8080/",
          "height": 327
        },
        "id": "GKoMkOitdc12",
        "outputId": "7e6feaa4-7302-4c91-a2a3-0116d0c64fe7"
      },
      "outputs": [
        {
          "data": {
            "text/html": [
              "<div>\n",
              "<style scoped>\n",
              "    .dataframe tbody tr th:only-of-type {\n",
              "        vertical-align: middle;\n",
              "    }\n",
              "\n",
              "    .dataframe tbody tr th {\n",
              "        vertical-align: top;\n",
              "    }\n",
              "\n",
              "    .dataframe thead th {\n",
              "        text-align: right;\n",
              "    }\n",
              "</style>\n",
              "<table border=\"1\" class=\"dataframe\">\n",
              "  <thead>\n",
              "    <tr style=\"text-align: right;\">\n",
              "      <th></th>\n",
              "      <th>Country</th>\n",
              "      <th>Region</th>\n",
              "      <th>Happiness Rank</th>\n",
              "      <th>Happiness Score</th>\n",
              "      <th>Standard Error</th>\n",
              "      <th>Economy (GDP per Capita)</th>\n",
              "      <th>Family</th>\n",
              "      <th>Health (Life Expectancy)</th>\n",
              "      <th>Freedom</th>\n",
              "      <th>Trust (Government Corruption)</th>\n",
              "      <th>Generosity</th>\n",
              "      <th>Dystopia Residual</th>\n",
              "    </tr>\n",
              "  </thead>\n",
              "  <tbody>\n",
              "    <tr>\n",
              "      <th>0</th>\n",
              "      <td>Switzerland</td>\n",
              "      <td>Western Europe</td>\n",
              "      <td>1</td>\n",
              "      <td>7.587</td>\n",
              "      <td>0.03411</td>\n",
              "      <td>1.39651</td>\n",
              "      <td>1.34951</td>\n",
              "      <td>0.94143</td>\n",
              "      <td>0.66557</td>\n",
              "      <td>0.41978</td>\n",
              "      <td>0.29678</td>\n",
              "      <td>2.51738</td>\n",
              "    </tr>\n",
              "    <tr>\n",
              "      <th>1</th>\n",
              "      <td>Iceland</td>\n",
              "      <td>Western Europe</td>\n",
              "      <td>2</td>\n",
              "      <td>7.561</td>\n",
              "      <td>0.04884</td>\n",
              "      <td>1.30232</td>\n",
              "      <td>1.40223</td>\n",
              "      <td>0.94784</td>\n",
              "      <td>0.62877</td>\n",
              "      <td>0.14145</td>\n",
              "      <td>0.43630</td>\n",
              "      <td>2.70201</td>\n",
              "    </tr>\n",
              "    <tr>\n",
              "      <th>2</th>\n",
              "      <td>Denmark</td>\n",
              "      <td>Western Europe</td>\n",
              "      <td>3</td>\n",
              "      <td>7.527</td>\n",
              "      <td>0.03328</td>\n",
              "      <td>1.32548</td>\n",
              "      <td>1.36058</td>\n",
              "      <td>0.87464</td>\n",
              "      <td>0.64938</td>\n",
              "      <td>0.48357</td>\n",
              "      <td>0.34139</td>\n",
              "      <td>2.49204</td>\n",
              "    </tr>\n",
              "    <tr>\n",
              "      <th>3</th>\n",
              "      <td>Norway</td>\n",
              "      <td>Western Europe</td>\n",
              "      <td>4</td>\n",
              "      <td>7.522</td>\n",
              "      <td>0.03880</td>\n",
              "      <td>1.45900</td>\n",
              "      <td>1.33095</td>\n",
              "      <td>0.88521</td>\n",
              "      <td>0.66973</td>\n",
              "      <td>0.36503</td>\n",
              "      <td>0.34699</td>\n",
              "      <td>2.46531</td>\n",
              "    </tr>\n",
              "    <tr>\n",
              "      <th>4</th>\n",
              "      <td>Canada</td>\n",
              "      <td>North America</td>\n",
              "      <td>5</td>\n",
              "      <td>7.427</td>\n",
              "      <td>0.03553</td>\n",
              "      <td>1.32629</td>\n",
              "      <td>1.32261</td>\n",
              "      <td>0.90563</td>\n",
              "      <td>0.63297</td>\n",
              "      <td>0.32957</td>\n",
              "      <td>0.45811</td>\n",
              "      <td>2.45176</td>\n",
              "    </tr>\n",
              "  </tbody>\n",
              "</table>\n",
              "</div>"
            ],
            "text/plain": [
              "       Country          Region  Happiness Rank  Happiness Score  \\\n",
              "0  Switzerland  Western Europe               1            7.587   \n",
              "1      Iceland  Western Europe               2            7.561   \n",
              "2      Denmark  Western Europe               3            7.527   \n",
              "3       Norway  Western Europe               4            7.522   \n",
              "4       Canada   North America               5            7.427   \n",
              "\n",
              "   Standard Error  Economy (GDP per Capita)   Family  \\\n",
              "0         0.03411                   1.39651  1.34951   \n",
              "1         0.04884                   1.30232  1.40223   \n",
              "2         0.03328                   1.32548  1.36058   \n",
              "3         0.03880                   1.45900  1.33095   \n",
              "4         0.03553                   1.32629  1.32261   \n",
              "\n",
              "   Health (Life Expectancy)  Freedom  Trust (Government Corruption)  \\\n",
              "0                   0.94143  0.66557                        0.41978   \n",
              "1                   0.94784  0.62877                        0.14145   \n",
              "2                   0.87464  0.64938                        0.48357   \n",
              "3                   0.88521  0.66973                        0.36503   \n",
              "4                   0.90563  0.63297                        0.32957   \n",
              "\n",
              "   Generosity  Dystopia Residual  \n",
              "0     0.29678            2.51738  \n",
              "1     0.43630            2.70201  \n",
              "2     0.34139            2.49204  \n",
              "3     0.34699            2.46531  \n",
              "4     0.45811            2.45176  "
            ]
          },
          "execution_count": 3,
          "metadata": {},
          "output_type": "execute_result"
        }
      ],
      "source": [
        "happy = pd.read_csv('C:/Users/magar/OneDrive/Desktop/ds and ml/Happiness Ranking - Code/Happiness.csv')\n",
        "\n",
        "happy_data = pd.DataFrame(happy)\n",
        "happy_data.head()"
      ]
    },
    {
      "cell_type": "code",
      "execution_count": 4,
      "metadata": {
        "colab": {
          "base_uri": "https://localhost:8080/"
        },
        "id": "IBwQZ_dPdoQZ",
        "outputId": "f19547a5-de60-4f33-cff1-382ab085e091"
      },
      "outputs": [
        {
          "data": {
            "text/plain": [
              "(158, 12)"
            ]
          },
          "execution_count": 4,
          "metadata": {},
          "output_type": "execute_result"
        }
      ],
      "source": [
        "# So our target variable this time is Happiness Rank, first we check how large our dataset is.\n",
        "\n",
        "happy_data.shape"
      ]
    },
    {
      "cell_type": "code",
      "execution_count": 5,
      "metadata": {
        "colab": {
          "base_uri": "https://localhost:8080/"
        },
        "id": "UUMyL-eKpayI",
        "outputId": "c4435c36-295a-4745-e625-c1cbe4fcf574"
      },
      "outputs": [
        {
          "data": {
            "text/plain": [
              "Country                          0\n",
              "Region                           0\n",
              "Happiness Rank                   0\n",
              "Happiness Score                  0\n",
              "Standard Error                   0\n",
              "Economy (GDP per Capita)         0\n",
              "Family                           0\n",
              "Health (Life Expectancy)         0\n",
              "Freedom                          0\n",
              "Trust (Government Corruption)    0\n",
              "Generosity                       0\n",
              "Dystopia Residual                0\n",
              "dtype: int64"
            ]
          },
          "execution_count": 5,
          "metadata": {},
          "output_type": "execute_result"
        }
      ],
      "source": [
        "happy_data.isnull().sum()"
      ]
    },
    {
      "cell_type": "code",
      "execution_count": 31,
      "metadata": {
        "id": "An5Ru3R8eBYv"
      },
      "outputs": [],
      "source": [
        "# Why small datasets lead to overfitting?\n",
        "# The goal of a machine learning model is to generalize patterns in training data so that you can correctly predict new data that \n",
        "# has never been presented to the model. Overfitting occurs when a model adjusts excessively to the training data, seeing patterns that\n",
        "#  do not exist, and consequently performing poorly in predicting new data:"
      ]
    },
    {
      "cell_type": "code",
      "execution_count": 32,
      "metadata": {
        "id": "_W11lc6pi0Yn"
      },
      "outputs": [],
      "source": [
        "# So how to handle small datasets - we will look at some pointers that can help us in training using small datasets:\n",
        "\n",
        "# Use simple models\n",
        "# Beware the outliers\n",
        "# Select the features\n",
        "# Balance the dataset with synthetic samples (SMOTE)\n",
        "# Combine models for the final submission"
      ]
    },
    {
      "cell_type": "code",
      "execution_count": 6,
      "metadata": {
        "colab": {
          "base_uri": "https://localhost:8080/",
          "height": 317
        },
        "id": "4BZjUoB_jPWW",
        "outputId": "d7020aa1-552e-46ad-f011-f6feaa8d5295"
      },
      "outputs": [
        {
          "data": {
            "text/html": [
              "<div>\n",
              "<style scoped>\n",
              "    .dataframe tbody tr th:only-of-type {\n",
              "        vertical-align: middle;\n",
              "    }\n",
              "\n",
              "    .dataframe tbody tr th {\n",
              "        vertical-align: top;\n",
              "    }\n",
              "\n",
              "    .dataframe thead th {\n",
              "        text-align: right;\n",
              "    }\n",
              "</style>\n",
              "<table border=\"1\" class=\"dataframe\">\n",
              "  <thead>\n",
              "    <tr style=\"text-align: right;\">\n",
              "      <th></th>\n",
              "      <th>Happiness Rank</th>\n",
              "      <th>Happiness Score</th>\n",
              "      <th>Standard Error</th>\n",
              "      <th>Economy (GDP per Capita)</th>\n",
              "      <th>Family</th>\n",
              "      <th>Health (Life Expectancy)</th>\n",
              "      <th>Freedom</th>\n",
              "      <th>Trust (Government Corruption)</th>\n",
              "      <th>Generosity</th>\n",
              "      <th>Dystopia Residual</th>\n",
              "    </tr>\n",
              "  </thead>\n",
              "  <tbody>\n",
              "    <tr>\n",
              "      <th>count</th>\n",
              "      <td>158.000000</td>\n",
              "      <td>158.000000</td>\n",
              "      <td>158.000000</td>\n",
              "      <td>158.000000</td>\n",
              "      <td>158.000000</td>\n",
              "      <td>158.000000</td>\n",
              "      <td>158.000000</td>\n",
              "      <td>158.000000</td>\n",
              "      <td>158.000000</td>\n",
              "      <td>158.000000</td>\n",
              "    </tr>\n",
              "    <tr>\n",
              "      <th>mean</th>\n",
              "      <td>79.493671</td>\n",
              "      <td>5.375734</td>\n",
              "      <td>0.047885</td>\n",
              "      <td>0.846137</td>\n",
              "      <td>0.991046</td>\n",
              "      <td>0.630259</td>\n",
              "      <td>0.428615</td>\n",
              "      <td>0.143422</td>\n",
              "      <td>0.237296</td>\n",
              "      <td>2.098977</td>\n",
              "    </tr>\n",
              "    <tr>\n",
              "      <th>std</th>\n",
              "      <td>45.754363</td>\n",
              "      <td>1.145010</td>\n",
              "      <td>0.017146</td>\n",
              "      <td>0.403121</td>\n",
              "      <td>0.272369</td>\n",
              "      <td>0.247078</td>\n",
              "      <td>0.150693</td>\n",
              "      <td>0.120034</td>\n",
              "      <td>0.126685</td>\n",
              "      <td>0.553550</td>\n",
              "    </tr>\n",
              "    <tr>\n",
              "      <th>min</th>\n",
              "      <td>1.000000</td>\n",
              "      <td>2.839000</td>\n",
              "      <td>0.018480</td>\n",
              "      <td>0.000000</td>\n",
              "      <td>0.000000</td>\n",
              "      <td>0.000000</td>\n",
              "      <td>0.000000</td>\n",
              "      <td>0.000000</td>\n",
              "      <td>0.000000</td>\n",
              "      <td>0.328580</td>\n",
              "    </tr>\n",
              "    <tr>\n",
              "      <th>25%</th>\n",
              "      <td>40.250000</td>\n",
              "      <td>4.526000</td>\n",
              "      <td>0.037268</td>\n",
              "      <td>0.545808</td>\n",
              "      <td>0.856823</td>\n",
              "      <td>0.439185</td>\n",
              "      <td>0.328330</td>\n",
              "      <td>0.061675</td>\n",
              "      <td>0.150553</td>\n",
              "      <td>1.759410</td>\n",
              "    </tr>\n",
              "    <tr>\n",
              "      <th>50%</th>\n",
              "      <td>79.500000</td>\n",
              "      <td>5.232500</td>\n",
              "      <td>0.043940</td>\n",
              "      <td>0.910245</td>\n",
              "      <td>1.029510</td>\n",
              "      <td>0.696705</td>\n",
              "      <td>0.435515</td>\n",
              "      <td>0.107220</td>\n",
              "      <td>0.216130</td>\n",
              "      <td>2.095415</td>\n",
              "    </tr>\n",
              "    <tr>\n",
              "      <th>75%</th>\n",
              "      <td>118.750000</td>\n",
              "      <td>6.243750</td>\n",
              "      <td>0.052300</td>\n",
              "      <td>1.158448</td>\n",
              "      <td>1.214405</td>\n",
              "      <td>0.811013</td>\n",
              "      <td>0.549092</td>\n",
              "      <td>0.180255</td>\n",
              "      <td>0.309883</td>\n",
              "      <td>2.462415</td>\n",
              "    </tr>\n",
              "    <tr>\n",
              "      <th>max</th>\n",
              "      <td>158.000000</td>\n",
              "      <td>7.587000</td>\n",
              "      <td>0.136930</td>\n",
              "      <td>1.690420</td>\n",
              "      <td>1.402230</td>\n",
              "      <td>1.025250</td>\n",
              "      <td>0.669730</td>\n",
              "      <td>0.551910</td>\n",
              "      <td>0.795880</td>\n",
              "      <td>3.602140</td>\n",
              "    </tr>\n",
              "  </tbody>\n",
              "</table>\n",
              "</div>"
            ],
            "text/plain": [
              "       Happiness Rank  Happiness Score  Standard Error  \\\n",
              "count      158.000000       158.000000      158.000000   \n",
              "mean        79.493671         5.375734        0.047885   \n",
              "std         45.754363         1.145010        0.017146   \n",
              "min          1.000000         2.839000        0.018480   \n",
              "25%         40.250000         4.526000        0.037268   \n",
              "50%         79.500000         5.232500        0.043940   \n",
              "75%        118.750000         6.243750        0.052300   \n",
              "max        158.000000         7.587000        0.136930   \n",
              "\n",
              "       Economy (GDP per Capita)      Family  Health (Life Expectancy)  \\\n",
              "count                158.000000  158.000000                158.000000   \n",
              "mean                   0.846137    0.991046                  0.630259   \n",
              "std                    0.403121    0.272369                  0.247078   \n",
              "min                    0.000000    0.000000                  0.000000   \n",
              "25%                    0.545808    0.856823                  0.439185   \n",
              "50%                    0.910245    1.029510                  0.696705   \n",
              "75%                    1.158448    1.214405                  0.811013   \n",
              "max                    1.690420    1.402230                  1.025250   \n",
              "\n",
              "          Freedom  Trust (Government Corruption)  Generosity  \\\n",
              "count  158.000000                     158.000000  158.000000   \n",
              "mean     0.428615                       0.143422    0.237296   \n",
              "std      0.150693                       0.120034    0.126685   \n",
              "min      0.000000                       0.000000    0.000000   \n",
              "25%      0.328330                       0.061675    0.150553   \n",
              "50%      0.435515                       0.107220    0.216130   \n",
              "75%      0.549092                       0.180255    0.309883   \n",
              "max      0.669730                       0.551910    0.795880   \n",
              "\n",
              "       Dystopia Residual  \n",
              "count         158.000000  \n",
              "mean            2.098977  \n",
              "std             0.553550  \n",
              "min             0.328580  \n",
              "25%             1.759410  \n",
              "50%             2.095415  \n",
              "75%             2.462415  \n",
              "max             3.602140  "
            ]
          },
          "execution_count": 6,
          "metadata": {},
          "output_type": "execute_result"
        }
      ],
      "source": [
        "# So we have used Liner Regressio model for this, with most probably using l1 or l2 regularization\n",
        "\n",
        "# Now we will be looking for outliers - before that we look at the ranges for all columns.\n",
        "happy_data.describe()"
      ]
    },
    {
      "cell_type": "code",
      "execution_count": 8,
      "metadata": {
        "colab": {
          "base_uri": "https://localhost:8080/",
          "height": 351
        },
        "id": "528pYMO0j0_8",
        "outputId": "ae8ad957-5113-4b15-e151-5f504a4b62d2"
      },
      "outputs": [
        {
          "data": {
            "text/plain": [
              "<Axes: xlabel='Happiness Rank', ylabel='Health (Life Expectancy)'>"
            ]
          },
          "execution_count": 8,
          "metadata": {},
          "output_type": "execute_result"
        },
        {
          "data": {
            "image/png": "[encoded data removed]",
            "text/plain": [
              "<Figure size 640x480 with 1 Axes>"
            ]
          },
          "metadata": {},
          "output_type": "display_data"
        }
      ],
      "source": [
        "sns.boxplot(x='Happiness Rank', y='Health (Life Expectancy)', data=happy_data)\n"
      ]
    },
    {
      "cell_type": "code",
      "execution_count": 35,
      "metadata": {
        "id": "TYIe7bsgkrQP"
      },
      "outputs": [],
      "source": [
        "# len(happy_data['Happiness Rank'].value_counts())\n",
        "\n",
        "# This is one way to see if their are any outliers though this might confuse you, so I will show you a better method to find if\n",
        "# outliers are present or not."
      ]
    },
    {
      "cell_type": "code",
      "execution_count": 9,
      "metadata": {
        "colab": {
          "base_uri": "https://localhost:8080/",
          "height": 483
        },
        "id": "rnImmvmUk3bQ",
        "outputId": "874a410e-4323-45fe-b426-2dc69cd7ce1a"
      },
      "outputs": [
        {
          "data": {
            "image/png": "[encoded data removed]",
            "text/plain": [
              "<Figure size 1000x800 with 1 Axes>"
            ]
          },
          "metadata": {},
          "output_type": "display_data"
        }
      ],
      "source": [
        "# To know more about boxplots - https://towardsdatascience.com/understanding-boxplots-5e2df7bcbd51\n",
        "\n",
        "fig = plt.figure(figsize =(10,8))\n",
        "data = [happy_data['Health (Life Expectancy)'], happy_data['Freedom'], happy_data['Trust (Government Corruption)'], \n",
        "        happy_data['Dystopia Residual']]\n",
        "\n",
        "plt.boxplot(data)\n",
        " \n",
        "# show plot\n",
        "plt.show()"
      ]
    },
    {
      "cell_type": "code",
      "execution_count": 37,
      "metadata": {
        "id": "hHNxR14zl04c"
      },
      "outputs": [],
      "source": [
        "# In the box plot, a box is created from the first quartile to the third quartile, a vertical line is also there which goes \n",
        "# through the box at the median. Here x-axis denotes the data to be plotted while the y-axis shows the frequency distribution.\n",
        "# The orange line is your 2nd quater or 50th percentile mark.\n",
        "# The points above and below the lines (minimum and maximum) are the outliers. These are clear for our column 3 and 4."
      ]
    },
    {
      "cell_type": "code",
      "execution_count": 38,
      "metadata": {
        "id": "23YHWLitnrFO"
      },
      "outputs": [],
      "source": [
        "# Now we bifurcate the data into a dataset having 'Trust (Government Corruption)' and one not having it."
      ]
    },
    {
      "cell_type": "code",
      "execution_count": 10,
      "metadata": {
        "colab": {
          "base_uri": "https://localhost:8080/",
          "height": 310
        },
        "id": "TQcoQwtao4hh",
        "outputId": "77927bb8-14ef-453b-bcc2-47d83c36fd7a"
      },
      "outputs": [
        {
          "data": {
            "text/html": [
              "<div>\n",
              "<style scoped>\n",
              "    .dataframe tbody tr th:only-of-type {\n",
              "        vertical-align: middle;\n",
              "    }\n",
              "\n",
              "    .dataframe tbody tr th {\n",
              "        vertical-align: top;\n",
              "    }\n",
              "\n",
              "    .dataframe thead th {\n",
              "        text-align: right;\n",
              "    }\n",
              "</style>\n",
              "<table border=\"1\" class=\"dataframe\">\n",
              "  <thead>\n",
              "    <tr style=\"text-align: right;\">\n",
              "      <th></th>\n",
              "      <th>Country</th>\n",
              "      <th>Region</th>\n",
              "      <th>Happiness Rank</th>\n",
              "      <th>Happiness Score</th>\n",
              "      <th>Standard Error</th>\n",
              "      <th>Economy (GDP per Capita)</th>\n",
              "      <th>Family</th>\n",
              "      <th>Health (Life Expectancy)</th>\n",
              "      <th>Freedom</th>\n",
              "      <th>Generosity</th>\n",
              "      <th>Dystopia Residual</th>\n",
              "    </tr>\n",
              "  </thead>\n",
              "  <tbody>\n",
              "    <tr>\n",
              "      <th>0</th>\n",
              "      <td>Switzerland</td>\n",
              "      <td>Western Europe</td>\n",
              "      <td>1</td>\n",
              "      <td>7.587</td>\n",
              "      <td>0.03411</td>\n",
              "      <td>1.39651</td>\n",
              "      <td>1.34951</td>\n",
              "      <td>0.94143</td>\n",
              "      <td>0.66557</td>\n",
              "      <td>0.29678</td>\n",
              "      <td>2.51738</td>\n",
              "    </tr>\n",
              "    <tr>\n",
              "      <th>1</th>\n",
              "      <td>Iceland</td>\n",
              "      <td>Western Europe</td>\n",
              "      <td>2</td>\n",
              "      <td>7.561</td>\n",
              "      <td>0.04884</td>\n",
              "      <td>1.30232</td>\n",
              "      <td>1.40223</td>\n",
              "      <td>0.94784</td>\n",
              "      <td>0.62877</td>\n",
              "      <td>0.43630</td>\n",
              "      <td>2.70201</td>\n",
              "    </tr>\n",
              "    <tr>\n",
              "      <th>2</th>\n",
              "      <td>Denmark</td>\n",
              "      <td>Western Europe</td>\n",
              "      <td>3</td>\n",
              "      <td>7.527</td>\n",
              "      <td>0.03328</td>\n",
              "      <td>1.32548</td>\n",
              "      <td>1.36058</td>\n",
              "      <td>0.87464</td>\n",
              "      <td>0.64938</td>\n",
              "      <td>0.34139</td>\n",
              "      <td>2.49204</td>\n",
              "    </tr>\n",
              "    <tr>\n",
              "      <th>3</th>\n",
              "      <td>Norway</td>\n",
              "      <td>Western Europe</td>\n",
              "      <td>4</td>\n",
              "      <td>7.522</td>\n",
              "      <td>0.03880</td>\n",
              "      <td>1.45900</td>\n",
              "      <td>1.33095</td>\n",
              "      <td>0.88521</td>\n",
              "      <td>0.66973</td>\n",
              "      <td>0.34699</td>\n",
              "      <td>2.46531</td>\n",
              "    </tr>\n",
              "    <tr>\n",
              "      <th>4</th>\n",
              "      <td>Canada</td>\n",
              "      <td>North America</td>\n",
              "      <td>5</td>\n",
              "      <td>7.427</td>\n",
              "      <td>0.03553</td>\n",
              "      <td>1.32629</td>\n",
              "      <td>1.32261</td>\n",
              "      <td>0.90563</td>\n",
              "      <td>0.63297</td>\n",
              "      <td>0.45811</td>\n",
              "      <td>2.45176</td>\n",
              "    </tr>\n",
              "  </tbody>\n",
              "</table>\n",
              "</div>"
            ],
            "text/plain": [
              "       Country          Region  Happiness Rank  Happiness Score  \\\n",
              "0  Switzerland  Western Europe               1            7.587   \n",
              "1      Iceland  Western Europe               2            7.561   \n",
              "2      Denmark  Western Europe               3            7.527   \n",
              "3       Norway  Western Europe               4            7.522   \n",
              "4       Canada   North America               5            7.427   \n",
              "\n",
              "   Standard Error  Economy (GDP per Capita)   Family  \\\n",
              "0         0.03411                   1.39651  1.34951   \n",
              "1         0.04884                   1.30232  1.40223   \n",
              "2         0.03328                   1.32548  1.36058   \n",
              "3         0.03880                   1.45900  1.33095   \n",
              "4         0.03553                   1.32629  1.32261   \n",
              "\n",
              "   Health (Life Expectancy)  Freedom  Generosity  Dystopia Residual  \n",
              "0                   0.94143  0.66557     0.29678            2.51738  \n",
              "1                   0.94784  0.62877     0.43630            2.70201  \n",
              "2                   0.87464  0.64938     0.34139            2.49204  \n",
              "3                   0.88521  0.66973     0.34699            2.46531  \n",
              "4                   0.90563  0.63297     0.45811            2.45176  "
            ]
          },
          "execution_count": 10,
          "metadata": {},
          "output_type": "execute_result"
        }
      ],
      "source": [
        "temp = happy_data.copy()\n",
        "new_data = temp.drop(['Trust (Government Corruption)'], axis = 1)\n",
        "new_data.head()"
      ]
    },
    {
      "cell_type": "code",
      "execution_count": 11,
      "metadata": {
        "id": "y1w0Rwq6qDsY"
      },
      "outputs": [],
      "source": [
        "# Segregating target variable and removing useless columns.\n",
        "\n",
        "y = new_data['Happiness Rank']\n",
        "fin_data = new_data.drop(['Region', 'Country', 'Happiness Rank'], axis = 1)"
      ]
    },
    {
      "cell_type": "code",
      "execution_count": 12,
      "metadata": {
        "colab": {
          "base_uri": "https://localhost:8080/"
        },
        "id": "ujALzmahz4DF",
        "outputId": "b88cbf89-c1b8-4489-c9e7-03aedf449dc5"
      },
      "outputs": [
        {
          "data": {
            "text/plain": [
              "Index(['Happiness Score', 'Standard Error', 'Economy (GDP per Capita)',\n",
              "       'Family', 'Health (Life Expectancy)', 'Freedom', 'Generosity',\n",
              "       'Dystopia Residual'],\n",
              "      dtype='object')"
            ]
          },
          "execution_count": 12,
          "metadata": {},
          "output_type": "execute_result"
        }
      ],
      "source": [
        "fin_data.columns"
      ]
    },
    {
      "cell_type": "code",
      "execution_count": 18,
      "metadata": {
        "id": "X3WAHntDpHRo"
      },
      "outputs": [
        {
          "name": "stderr",
          "output_type": "stream",
          "text": [
            "<>:6: SyntaxWarning: invalid escape sequence '\\O'\n",
            "<>:6: SyntaxWarning: invalid escape sequence '\\O'\n",
            "C:\\Users\\magar\\AppData\\Local\\Temp\\ipykernel_13736\\303844693.py:6: SyntaxWarning: invalid escape sequence '\\O'\n",
            "  pickle.dump(scale, open('C:/Users/magar\\OneDrive/Desktop/ds and ml/Happiness Ranking - Code/mysite/polls/HappinessScaler.pickle','wb'))\n"
          ]
        }
      ],
      "source": [
        "scale = StandardScaler()\n",
        "data = scale.fit_transform(fin_data)\n",
        "\n",
        "# Saving the StandardScaler class file\n",
        "import pickle\n",
        "pickle.dump(scale, open('C:/Users/magar\\OneDrive/Desktop/ds and ml/Happiness Ranking - Code/mysite/polls/HappinessScaler.pickle','wb'))\n",
        "\n",
        "# sc = pickle.load(open('file/path/scaler.pkl','rb')) to load the pickled file."
      ]
    },
    {
      "cell_type": "code",
      "execution_count": 17,
      "metadata": {
        "colab": {
          "base_uri": "https://localhost:8080/"
        },
        "id": "nJ_5_c_8qYcx",
        "outputId": "46b97d83-016a-4531-ed81-178971b8fb1d"
      },
      "outputs": [
        {
          "name": "stdout",
          "output_type": "stream",
          "text": [
            "1.937360050111343\n"
          ]
        }
      ],
      "source": [
        "# Now you have to use index for columns and rows like in numpy to access values from the data.\n",
        "print(data[0][0])"
      ]
    },
    {
      "cell_type": "code",
      "execution_count": 19,
      "metadata": {
        "colab": {
          "base_uri": "https://localhost:8080/",
          "height": 483
        },
        "id": "dV95N44fqbET",
        "outputId": "caf5f49f-c83a-496f-88a8-e6b2ca7b8ff8"
      },
      "outputs": [
        {
          "data": {
            "image/png": "[encoded data removed]",
            "text/plain": [
              "<Figure size 1000x800 with 1 Axes>"
            ]
          },
          "metadata": {},
          "output_type": "display_data"
        }
      ],
      "source": [
        "# Now we compare the standardized data:- \n",
        "# 'Health (Life Expectancy)'] - data[4]\n",
        "# happy_data['Freedom'] - data[5]\n",
        "# happy_data['Trust (Government Corruption)'] - Not present\n",
        "# happy_data['Dystopia Residual'] - data[7]\n",
        "\n",
        "fig = plt.figure(figsize =(10,8))\n",
        "inserting = [data[4], data[5], data[7]]\n",
        "\n",
        "plt.boxplot(inserting)\n",
        " \n",
        "# show plot\n",
        "plt.show()"
      ]
    },
    {
      "cell_type": "code",
      "execution_count": 20,
      "metadata": {
        "id": "nXMzjObDsKUA"
      },
      "outputs": [],
      "source": [
        "# You can see the numbers of outliers have diminshed or vanished itself."
      ]
    },
    {
      "cell_type": "code",
      "execution_count": 21,
      "metadata": {
        "id": "srlXS1a-sRFN"
      },
      "outputs": [],
      "source": [
        "Xtrain, Xtest, ytrain, ytest = train_test_split(data, y, test_size=0.1)"
      ]
    },
    {
      "cell_type": "code",
      "execution_count": 22,
      "metadata": {
        "colab": {
          "base_uri": "https://localhost:8080/"
        },
        "id": "-574Et_msblM",
        "outputId": "84a8ad4b-2e1b-454a-95f5-bc30385a6783"
      },
      "outputs": [
        {
          "data": {
            "text/plain": [
              "{'copy_X': True, 'fit_intercept': True, 'n_jobs': None, 'positive': False}"
            ]
          },
          "execution_count": 22,
          "metadata": {},
          "output_type": "execute_result"
        }
      ],
      "source": [
        "reg = LinearRegression()\n",
        "\n",
        "reg.get_params(deep = True)"
      ]
    },
    {
      "cell_type": "code",
      "execution_count": 23,
      "metadata": {
        "colab": {
          "base_uri": "https://localhost:8080/"
        },
        "id": "s6D_u52VsoXL",
        "outputId": "a4127cb8-5704-4baa-ef57-f46736b440e5"
      },
      "outputs": [
        {
          "name": "stdout",
          "output_type": "stream",
          "text": [
            "0.9864326559017711\n"
          ]
        }
      ],
      "source": [
        "vari = reg.fit(Xtrain, ytrain)\n",
        "\n",
        "print(reg.score(Xtrain, ytrain))"
      ]
    },
    {
      "cell_type": "code",
      "execution_count": 24,
      "metadata": {
        "colab": {
          "base_uri": "https://localhost:8080/"
        },
        "id": "KskRL-1Itl-x",
        "outputId": "4e6914b8-fc38-4f70-929a-1c2c575b9dbe"
      },
      "outputs": [
        {
          "name": "stdout",
          "output_type": "stream",
          "text": [
            "0.978891401229752\n"
          ]
        }
      ],
      "source": [
        "# Predicting \n",
        "pred = reg.predict(Xtest)\n",
        "\n",
        "r2_score = reg.score(Xtest,ytest)\n",
        "print(r2_score)"
      ]
    },
    {
      "cell_type": "code",
      "execution_count": 26,
      "metadata": {
        "id": "8kjRRItUuCgh"
      },
      "outputs": [],
      "source": [
        "# Save the trained model as a pickle string.\n",
        "saved_model = pickle.dump(reg, open('C:/Users/magar/OneDrive/Desktop/ds and ml/Happiness Ranking - Code/mysite/polls/HappinessModel.pickle','wb'))\n",
        "  \n",
        "# Load the pickled model - reg_from_pickle = pickle.load(saved_model)\n",
        "# Use the loaded pickled model to make predictions - reg_from_pickle.predict(X_test)"
      ]
    },
    {
      "cell_type": "code",
      "execution_count": 50,
      "metadata": {
        "id": "wG_MUMUJwJWT"
      },
      "outputs": [],
      "source": []
    }
  ],
  "metadata": {
    "colab": {
      "collapsed_sections": [],
      "name": "Happiness.ipynb",
      "provenance": []
    },
    "kernelspec": {
      "display_name": "base",
      "language": "python",
      "name": "python3"
    },
    "language_info": {
      "codemirror_mode": {
        "name": "ipython",
        "version": 3
      },
      "file_extension": ".py",
      "mimetype": "text/x-python",
      "name": "python",
      "nbconvert_exporter": "python",
      "pygments_lexer": "ipython3",
      "version": "3.12.4"
    }
  },
  "nbformat": 4,
  "nbformat_minor": 0
}
